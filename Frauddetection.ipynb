{
 "cells": [
  {
   "cell_type": "markdown",
   "id": "da39d521-352c-49f1-9155-41d22ec0db42",
   "metadata": {},
   "source": [
    "# Maskininlärning för \"frauddetection\""
   ]
  },
  {
   "cell_type": "markdown",
   "id": "6cae9e77-5a10-451e-9a9e-918733e74f8b",
   "metadata": {},
   "source": [
    "## Ladda datasets & EDA"
   ]
  },
  {
   "cell_type": "code",
   "execution_count": null,
   "id": "befbfba3-b54b-403d-b7e2-a497447b5969",
   "metadata": {},
   "outputs": [],
   "source": [
    "!pip install pandas seaborn matplotlib scikit-learn"
   ]
  },
  {
   "cell_type": "code",
   "execution_count": null,
   "id": "3f5f2b24-d316-432f-b03a-8ff79eeef9e4",
   "metadata": {},
   "outputs": [],
   "source": [
    "import pandas as pd\n",
    "import seaborn as sns\n",
    "import matplotlib.pyplot as plt\n",
    "from sklearn.model_selection import train_test_split\n",
    "from sklearn.linear_model import LogisticRegression\n",
    "from sklearn.metrics import accuracy_score\n",
    "\n",
    "# Ladda datasetet\n",
    "file_path = 'path/to/your/dataset.csv'\n",
    "data = pd.read_csv(file_path)\n",
    "\n",
    "# EDA\n",
    "print(data.info())\n",
    "print(data.describe())\n",
    "print(data['fraud'].value_counts())"
   ]
  },
  {
   "cell_type": "markdown",
   "id": "a3008862-5f6b-4c4e-980f-16b2fd919776",
   "metadata": {},
   "source": [
    "## Feature Engineering"
   ]
  },
  {
   "cell_type": "code",
   "execution_count": null,
   "id": "c08d6189-c184-4212-ba7b-1b2a33b18381",
   "metadata": {},
   "outputs": [],
   "source": [
    "# Skapa en ny feature\n",
    "data['distance_diff'] = data['distance_from_home'] - data['distance_from_last_transaction']\n",
    "print(data.describe())"
   ]
  },
  {
   "cell_type": "markdown",
   "id": "7c70e271-3ee4-4cf0-9490-842b7bf23722",
   "metadata": {},
   "source": [
    "## Visualisering"
   ]
  },
  {
   "cell_type": "markdown",
   "id": "1ca42b26-1ac3-4216-a670-39ed63f1d886",
   "metadata": {},
   "source": [
    "### Heatmap för korrelation"
   ]
  },
  {
   "cell_type": "code",
   "execution_count": null,
   "id": "dca432ae-921e-49e0-9bb0-c6a474e1d861",
   "metadata": {},
   "outputs": [],
   "source": [
    "# Heatmap för att visualisera korrelationer mellan variabler\n",
    "corr_matrix = data.corr()\n",
    "plt.figure(figsize=(10, 8))\n",
    "sns.heatmap(corr_matrix, annot=True, fmt='.2f', cmap='coolwarm', center=0)\n",
    "plt.title('korr. mellan variabler')\n",
    "plt.show()"
   ]
  },
  {
   "cell_type": "markdown",
   "id": "fc3deabd-cfed-4ac8-a359-27fe17bae002",
   "metadata": {},
   "source": [
    "### Linjär  regression"
   ]
  },
  {
   "cell_type": "code",
   "execution_count": null,
   "id": "2b6992c2-d3e2-491b-9f47-e8d616ab6559",
   "metadata": {},
   "outputs": [],
   "source": [
    "# Slumputval av en mindre del av datan för snabbare visualisering\n",
    "data_sample = data.sample(n=1000, random_state=66)  # Exempelvis 10 000 rader\n",
    "\n",
    "# Visualisera\n",
    "sns.regplot(x='distance_from_home', y='ratio_to_median_purchase_price', data=data_sample, scatter_kws={'s':10}, line_kws={'color':'red'})\n",
    "plt.title('Linjär Regression mellan Distance_from_Home och Ratio_to_Median_Purchase_Price (Sampled Data)')\n",
    "plt.xlabel('Distance from Home')\n",
    "plt.ylabel('Ratio to Median Purchase Price')\n",
    "plt.show()"
   ]
  },
  {
   "cell_type": "markdown",
   "id": "fb6ac429-3ecc-4521-8dfe-21d8d7545a2a",
   "metadata": {},
   "source": [
    "## Dela upp data i tränings/testset"
   ]
  },
  {
   "cell_type": "code",
   "execution_count": null,
   "id": "57cba570-ad50-4677-a4ae-b67ccf6a1436",
   "metadata": {},
   "outputs": [],
   "source": [
    "# Dela upp data i tränings- och testset\n",
    "X = data[['distance_from_home', 'distance_diff', 'ratio_to_median_purchase_price', 'used_chip', 'used_pin_number', 'online_order']]\n",
    "y = data['fraud']\n",
    "X_train, X_test, y_train, y_test = train_test_split(X, y, test_size=0.3, random_state=99)"
   ]
  },
  {
   "cell_type": "markdown",
   "id": "fe791c48-4714-49ea-a7d0-dcb39a40b20a",
   "metadata": {},
   "source": [
    "## Träna modellen"
   ]
  },
  {
   "cell_type": "code",
   "execution_count": null,
   "id": "f007fdeb-d6a8-40c6-8167-918a3a779ceb",
   "metadata": {},
   "outputs": [],
   "source": [
    "# Träna en logistisk regressionsmodell\n",
    "model = LogisticRegression()\n",
    "model.fit(X_train, y_train)\n",
    "\n",
    "# Gör prediktioner på testdata\n",
    "y_pred = model.predict(X_test)\n",
    "\n",
    "# Utvärdera modellens träffsäkerthet\n",
    "print(f\"träffsäkerhet på: {accuracy_score(y_test, y_pred):.10f}\")"
   ]
  },
  {
   "cell_type": "code",
   "execution_count": null,
   "id": "53942d45-1595-462d-870d-a9eeec836106",
   "metadata": {},
   "outputs": [],
   "source": []
  }
 ],
 "metadata": {
  "kernelspec": {
   "display_name": "base",
   "language": "python",
   "name": "python3"
  },
  "language_info": {
   "codemirror_mode": {
    "name": "ipython",
    "version": 3
   },
   "file_extension": ".py",
   "mimetype": "text/x-python",
   "name": "python",
   "nbconvert_exporter": "python",
   "pygments_lexer": "ipython3",
   "version": "3.12.4"
  }
 },
 "nbformat": 4,
 "nbformat_minor": 5
}
